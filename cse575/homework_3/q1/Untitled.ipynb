{
 "cells": [
  {
   "cell_type": "code",
   "execution_count": 70,
   "metadata": {},
   "outputs": [],
   "source": [
    "import numpy as np\n",
    "import math\n",
    "X = np.array([-67, -48, 6, 8, 14, 16, 23, 24])\n",
    "mu_1 = -60\n",
    "mu_2 = -55\n",
    "var_1 = 5\n",
    "var_2 = 5\n",
    "pi_1 = 0.5\n",
    "pi_2 = 0.5\n",
    "\n",
    "def cond_prob(x, mu, var):\n",
    "    return 1/(np.sqrt(2*math.pi*var))*np.e**(-(np.power(x-mu, 2))/(2*var))\n",
    "def max_params(X, W):\n",
    "    mu = X.dot(W)/np.sum(W)\n",
    "    var = W.dot(np.power(X-mu, 2))/np.sum(W)\n",
    "    return mu, var"
   ]
  },
  {
   "cell_type": "code",
   "execution_count": 71,
   "metadata": {},
   "outputs": [
    {
     "name": "stdout",
     "output_type": "stream",
     "text": [
      "[9.99925154e-01 7.48462275e-05 2.64423713e-28 3.57858581e-29\n",
      " 8.87042736e-32 1.20048180e-32 1.09469770e-35 4.02716779e-36] [7.48462275e-05 9.99925154e-01 1.00000000e+00 1.00000000e+00\n",
      " 1.00000000e+00 1.00000000e+00 1.00000000e+00 1.00000000e+00]\n",
      "-66.9985779216773 0.02701746582457477\n",
      "6.142653988811042 528.1483075461882\n"
     ]
    }
   ],
   "source": [
    "class_cond_1 = cond_prob(X, mu_1, var_1)\n",
    "class_cond_2 = cond_prob(X, mu_2, var_2)\n",
    "posterior_1 = class_cond_1*pi_1/(class_cond_1*pi_1 + class_cond_2*pi_2)\n",
    "posterior_2 = np.subtract(1, posterior_1)\n",
    "print(posterior_1, posterior_2)\n",
    "    \n",
    "mu_1, var_1 = max_params(X, posterior_1)\n",
    "print(mu_1, var_1)\n",
    "mu_2, var_2 = max_params(X, posterior_2)\n",
    "print(mu_2, var_2)\n"
   ]
  },
  {
   "cell_type": "markdown",
   "metadata": {},
   "source": [
    "# Problem 2"
   ]
  },
  {
   "cell_type": "code",
   "execution_count": 73,
   "metadata": {},
   "outputs": [],
   "source": [
    "X = np.array([[0.,0.], [-1., -1.], [-3., -3.], [1., 1.], [3., 3.]])"
   ]
  },
  {
   "cell_type": "code",
   "execution_count": 84,
   "metadata": {},
   "outputs": [
    {
     "data": {
      "text/plain": [
       "array([[20., 20.],\n",
       "       [20., 20.]])"
      ]
     },
     "execution_count": 84,
     "metadata": {},
     "output_type": "execute_result"
    }
   ],
   "source": [
    "X.T @  X"
   ]
  },
  {
   "cell_type": "code",
   "execution_count": null,
   "metadata": {},
   "outputs": [],
   "source": []
  },
  {
   "cell_type": "code",
   "execution_count": null,
   "metadata": {
    "collapsed": true
   },
   "outputs": [],
   "source": []
  }
 ],
 "metadata": {
  "kernelspec": {
   "display_name": "Python 3",
   "language": "python",
   "name": "python3"
  },
  "language_info": {
   "codemirror_mode": {
    "name": "ipython",
    "version": 3
   },
   "file_extension": ".py",
   "mimetype": "text/x-python",
   "name": "python",
   "nbconvert_exporter": "python",
   "pygments_lexer": "ipython3",
   "version": "3.6.3"
  }
 },
 "nbformat": 4,
 "nbformat_minor": 2
}
