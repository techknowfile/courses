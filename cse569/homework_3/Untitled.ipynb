{
 "cells": [
  {
   "cell_type": "code",
   "execution_count": 21,
   "metadata": {},
   "outputs": [
    {
     "name": "stdout",
     "output_type": "stream",
     "text": [
      "30 Ttest_indResult(statistic=-1.5657277538144501, pvalue=0.12285259857694572)\n",
      "150 Ttest_indResult(statistic=-3.9440514303497221, pvalue=9.9940495910759365e-05)\n",
      "600 Ttest_indResult(statistic=-8.4496740353296111, pvalue=8.36485498900447e-17)\n"
     ]
    }
   ],
   "source": [
    "import numpy as np\n",
    "from scipy.stats import ttest_ind\n",
    "\n",
    "def main():\n",
    "    sample_sizes = [30, 150, 600]\n",
    "    \n",
    "    for n in sample_sizes:\n",
    "        D_1 = np.random.normal(1, 1, n)\n",
    "        D_2 = np.random.normal(1.5, 1, n)\n",
    "        \n",
    "        print(n, ttest_ind(D_1, D_2))\n",
    "        \n",
    "\n",
    "if __name__ == '__main__':\n",
    "    main()"
   ]
  },
  {
   "cell_type": "code",
   "execution_count": null,
   "metadata": {},
   "outputs": [],
   "source": []
  }
 ],
 "metadata": {
  "kernelspec": {
   "display_name": "Python 3",
   "language": "python",
   "name": "python3"
  },
  "language_info": {
   "codemirror_mode": {
    "name": "ipython",
    "version": 3
   },
   "file_extension": ".py",
   "mimetype": "text/x-python",
   "name": "python",
   "nbconvert_exporter": "python",
   "pygments_lexer": "ipython3",
   "version": "3.6.2"
  }
 },
 "nbformat": 4,
 "nbformat_minor": 2
}
