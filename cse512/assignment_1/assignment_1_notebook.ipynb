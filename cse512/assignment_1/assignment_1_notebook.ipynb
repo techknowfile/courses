{
 "cells": [
  {
   "cell_type": "code",
   "execution_count": 38,
   "metadata": {},
   "outputs": [],
   "source": [
    "import psycopg2\n",
    "\n",
    "DATABASE_NAME = 'dds_assgn1'\n",
    "\n",
    "\n",
    "def getopenconnection(user='postgres', password='1234', dbname='postgres'):\n",
    "    return psycopg2.connect(\"dbname='\" + dbname + \"' user='\" + user + \"' host='localhost' password='\" + password + \"'\")\n",
    "\n",
    "\n",
    "def loadratings(ratingstablename, ratingsfilepath, openconnection):\n",
    "    cur = openconnection.cursor()\n",
    "    cur.execute(\"CREATE TABLE {};\".format(ra))\n",
    "    with open(ratingsfilepath, 'r') as f:\n",
    "        for line in f:\n",
    "            tup = line.split(\"::\")\n",
    "            tup = tuple(tup)\n",
    "            cur.execute(\"INSERT INTO {} VALUES ({}, {}, {});\".format(ratingstablename, *tup[:-1]))\n",
    "\n",
    "\n",
    "def rangepartition(ratingstablename, numberofpartitions, openconnection):\n",
    "    cur = openconnection.cursor();\n",
    "    for partition in numberofpartitions:\n",
    "        cur.execute(\"create table \");\n",
    "\n",
    "\n",
    "def roundrobinpartition(ratingstablename, numberofpartitions, openconnection):\n",
    "    pass\n",
    "\n",
    "\n",
    "def roundrobininsert(ratingstablename, userid, itemid, rating, openconnection):\n",
    "    pass\n",
    "\n",
    "\n",
    "def rangeinsert(ratingstablename, userid, itemid, rating, openconnection):\n",
    "    pass\n",
    "\n",
    "def create_db(dbname):\n",
    "    \"\"\"\n",
    "    We create a DB by connecting to the default user and database of Postgres\n",
    "    The function first checks if an existing database exists for a given name, else creates it.\n",
    "    :return:None\n",
    "    \"\"\"\n",
    "    # Connect to the default database\n",
    "    con = getopenconnection(dbname='postgres')\n",
    "    con.set_isolation_level(psycopg2.extensions.ISOLATION_LEVEL_AUTOCOMMIT)\n",
    "    cur = con.cursor()\n",
    "\n",
    "    # Check if an existing database with the same name exists\n",
    "    cur.execute('SELECT COUNT(*) FROM pg_catalog.pg_database WHERE datname=\\'%s\\'' % (dbname,))\n",
    "    count = cur.fetchone()[0]\n",
    "    if count == 0:\n",
    "        cur.execute('CREATE DATABASE %s' % (dbname,))  # Create the database\n",
    "    else:\n",
    "        print 'A database named {0} already exists'.format(dbname)\n",
    "\n",
    "    # Clean up\n",
    "    cur.close()\n",
    "    con.close()"
   ]
  },
  {
   "cell_type": "code",
   "execution_count": 31,
   "metadata": {},
   "outputs": [],
   "source": [
    "create_db('test2')\n"
   ]
  },
  {
   "cell_type": "code",
   "execution_count": 39,
   "metadata": {},
   "outputs": [],
   "source": [
    "con = getopenconnection(dbname='test')\n",
    "con.set_isolation_level(psycopg2.extensions.ISOLATION_LEVEL_AUTOCOMMIT)\n",
    "loadratings(\"ratings\", \"/home/techknowfile/courses/cse512/assignment_1/test_data.dat\", con)\n",
    "con.close()"
   ]
  },
  {
   "cell_type": "code",
   "execution_count": null,
   "metadata": {},
   "outputs": [],
   "source": []
  },
  {
   "cell_type": "code",
   "execution_count": 36,
   "metadata": {},
   "outputs": [],
   "source": []
  },
  {
   "cell_type": "code",
   "execution_count": null,
   "metadata": {},
   "outputs": [],
   "source": []
  }
 ],
 "metadata": {
  "kernelspec": {
   "display_name": "Python [conda env:py2]",
   "language": "python",
   "name": "conda-env-py2-py"
  },
  "language_info": {
   "codemirror_mode": {
    "name": "ipython",
    "version": 2
   },
   "file_extension": ".py",
   "mimetype": "text/x-python",
   "name": "python",
   "nbconvert_exporter": "python",
   "pygments_lexer": "ipython2",
   "version": "2.7.14"
  }
 },
 "nbformat": 4,
 "nbformat_minor": 2
}
