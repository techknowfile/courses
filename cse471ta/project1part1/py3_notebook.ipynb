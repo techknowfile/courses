{
 "cells": [
  {
   "cell_type": "code",
   "execution_count": 3,
   "metadata": {},
   "outputs": [
    {
     "name": "stdout",
     "output_type": "stream",
     "text": [
      "submissions/Project 1 Part 1 Submission_adeotale_attempt_2017-09-14-18-29-23_Aditya_deotale\n",
      "['search.py', 'searchAgents.py']\n"
     ]
    },
    {
     "ename": "SyntaxError",
     "evalue": "Missing parentheses in call to 'print' (autograder.py, line 88)",
     "output_type": "error",
     "traceback": [
      "\u001b[0;36m  File \u001b[0;32m\"/home/techknowfile/Documents/CSE471 Projects/project1part1/tmp/autograder.py\"\u001b[0;36m, line \u001b[0;32m88\u001b[0m\n\u001b[0;31m    print 'WARNING: this action will overwrite any solution files.'\u001b[0m\n\u001b[0m                                                                  ^\u001b[0m\n\u001b[0;31mSyntaxError\u001b[0m\u001b[0;31m:\u001b[0m Missing parentheses in call to 'print'\n"
     ]
    }
   ],
   "source": [
    "import zipfile\n",
    "import os, glob\n",
    "import past\n",
    "\n",
    "curr_dir = os.getcwd()\n",
    "ORIGINAL_SUBMISSIONS = \"original_submissions/\"\n",
    "SUBMISSIONS = \"submissions/\"\n",
    "\n",
    "def unzip_original_submissions():\n",
    "    student_folders = []\n",
    "    for file in glob.glob(ORIGINAL_SUBMISSIONS + \"*.zip\"):\n",
    "        file_name = os.path.splitext(os.path.basename(file))[0]\n",
    "        rel_path = SUBMISSIONS + file_name\n",
    "        zip_file = zipfile.ZipFile(file, 'r')\n",
    "        zip_file.extractall(rel_path)\n",
    "        student_folders.append(rel_path)\n",
    "    return student_folders\n",
    "        \n",
    "def moveFilesToTestFolder(student_folder, test_files):\n",
    "    print(student_folder)\n",
    "    print(test_files)\n",
    "    import shutil\n",
    "    \n",
    "    # Delete tmp folder\n",
    "    if os.path.exists(\"tmp\"):\n",
    "        for file in test_files:\n",
    "            if os.path.exists(\"tmp/\"+file):\n",
    "                os.remove(\"tmp/\"+file)\n",
    "                        \n",
    "    # Copy student files\n",
    "    for dirpath, dirnames, filenames in os.walk(student_folder):\n",
    "        for filename in [f for f in filenames if f in test_files]:\n",
    "            shutil.copy(os.path.join(dirpath, filename), \"tmp/\" + filename)\n",
    "            \n",
    "def runAutograder():\n",
    "    import tmp.autograder\n",
    "    autograder\n",
    "            \n",
    "def main():\n",
    "    student_folders = unzip_original_submissions()\n",
    "    for student_folder in student_folders:\n",
    "        moveFilesToTestFolder(student_folder, [\"search.py\", \"searchAgents.py\"])\n",
    "        runAutograder()\n",
    " \n",
    "if __name__ == '__main__':\n",
    "    main()\n"
   ]
  },
  {
   "cell_type": "code",
   "execution_count": 37,
   "metadata": {},
   "outputs": [
    {
     "name": "stdout",
     "output_type": "stream",
     "text": [
      "Project 1 Part 1 Submission_adeotale_attempt_2017-09-14-18-29-23_Aditya_deotale\n",
      "Project 1 Part 1 Submission_jcamou1_attempt_2017-09-15-10-39-25_Camou_Jesus\n",
      "Project 1 Part 1 Submission_sbhand12_attempt_2017-09-14-11-22-22_Samarth_Bhandari\n",
      "Project 1 Part 1 Submission_drdavis8_attempt_2017-09-07-21-08-10_Dalton_Davis\n",
      "Project 1 Part 1 Submission_cdave1_attempt_2017-09-07-10-55-27_Chirav_Dave\n",
      "Project 1 Part 1 Submission_mebaker7_attempt_2017-09-14-13-56-44_Baker_Matthew\n",
      "Project 1 Part 1 Submission_kvbhatt1_attempt_2017-09-15-09-18-20_Kushal_Bhatt\n",
      "Project 1 Part 1 Submission_udasu_attempt_2017-09-13-14-14-40_Dasu_Ujjwal\n",
      "Project 1 Part 1 Submission_lkdecker_attempt_2017-09-12-14-43-15_Logan_Decker\n",
      "Project 1 Part 1 Submission_zdeng17_attempt_2017-09-15-12-23-37_deng_zhenghao\n",
      "Project 1 Part 1 Submission_sbidve_attempt_2017-09-14-21-48-17_Santosh_Bidve\n",
      "Project 1 Part 1 Submission_racohn_attempt_2017-09-11-17-05-54_cohn_riley\n",
      "Project 1 Part 1 Submission_mbommir1_attempt_2017-09-15-08-45-10_Bommireddy_MahenderReddy\n",
      "Project 1 Part 1 Submission_tdandala_attempt_2017-09-15-00-18-19_Dandala_TejTharang\n"
     ]
    }
   ],
   "source": [
    "unzip_original_submissions()"
   ]
  },
  {
   "cell_type": "code",
   "execution_count": 92,
   "metadata": {},
   "outputs": [
    {
     "name": "stdout",
     "output_type": "stream",
     "text": [
      "submissions/Project 1 Part 1 Submission_zdeng17_attempt_2017-09-15-12-23-37_deng_zhenghao/\n",
      "['search.py', 'searchAgents.py']\n"
     ]
    }
   ],
   "source": [
    "moveFilesToTestFolder(SUBMISSIONS + \"Project 1 Part 1 Submission_zdeng17_attempt_2017-09-15-12-23-37_deng_zhenghao/\", [\"search.py\", \"searchAgents.py\"])"
   ]
  },
  {
   "cell_type": "code",
   "execution_count": 24,
   "metadata": {},
   "outputs": [
    {
     "name": "stdout",
     "output_type": "stream",
     "text": [
      "/home/techknowfile/Documents/CSE471 Projects/project1part1\n"
     ]
    }
   ],
   "source": [
    "print(os.getcwd())"
   ]
  },
  {
   "cell_type": "code",
   "execution_count": 102,
   "metadata": {},
   "outputs": [
    {
     "data": {
      "text/plain": [
       "['submissions/Project 1 Part 1 Submission_zdeng17_attempt_2017-09-15-12-23-37_deng_zhenghao',\n",
       " 'submissions/Project 1 Part 1 Submission_jcamou1_attempt_2017-09-15-10-39-25_Camou_Jesus',\n",
       " 'submissions/Project 1 Part 1 Submission_lkdecker_attempt_2017-09-12-14-43-15_Logan_Decker',\n",
       " 'submissions/Project 1 Part 1 Submission_racohn_attempt_2017-09-11-17-05-54_cohn_riley',\n",
       " 'submissions/Project 1 Part 1 Submission_sbhand12_attempt_2017-09-14-11-22-22_Samarth_Bhandari',\n",
       " 'submissions/Project 1 Part 1 Submission_adeotale_attempt_2017-09-14-18-29-23_Aditya_deotale',\n",
       " 'submissions/Project 1 Part 1 Submission_mebaker7_attempt_2017-09-14-13-56-44_Baker_Matthew',\n",
       " 'submissions/Project 1 Part 1 Submission_cdave1_attempt_2017-09-07-10-55-27_Chirav_Dave',\n",
       " 'submissions/Project 1 Part 1 Submission_sbidve_attempt_2017-09-14-21-48-17_Santosh_Bidve',\n",
       " 'submissions/Project 1 Part 1 Submission_drdavis8_attempt_2017-09-07-21-08-10_Dalton_Davis',\n",
       " 'submissions/Project 1 Part 1 Submission_udasu_attempt_2017-09-13-14-14-40_Dasu_Ujjwal',\n",
       " 'submissions/Project 1 Part 1 Submission_mbommir1_attempt_2017-09-15-08-45-10_Bommireddy_MahenderReddy',\n",
       " 'submissions/Project 1 Part 1 Submission_tdandala_attempt_2017-09-15-00-18-19_Dandala_TejTharang',\n",
       " 'submissions/Project 1 Part 1 Submission_kvbhatt1_attempt_2017-09-15-09-18-20_Kushal_Bhatt']"
      ]
     },
     "execution_count": 102,
     "metadata": {},
     "output_type": "execute_result"
    }
   ],
   "source": []
  },
  {
   "cell_type": "code",
   "execution_count": null,
   "metadata": {
    "collapsed": true
   },
   "outputs": [],
   "source": []
  }
 ],
 "metadata": {
  "kernelspec": {
   "display_name": "Python 3",
   "language": "python",
   "name": "python3"
  },
  "language_info": {
   "codemirror_mode": {
    "name": "ipython",
    "version": 3
   },
   "file_extension": ".py",
   "mimetype": "text/x-python",
   "name": "python",
   "nbconvert_exporter": "python",
   "pygments_lexer": "ipython3",
   "version": "3.6.1"
  }
 },
 "nbformat": 4,
 "nbformat_minor": 2
}
